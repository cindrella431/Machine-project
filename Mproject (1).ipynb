{
  "nbformat": 4,
  "nbformat_minor": 0,
  "metadata": {
    "colab": {
      "private_outputs": true,
      "provenance": []
    },
    "kernelspec": {
      "name": "python3",
      "display_name": "Python 3"
    },
    "language_info": {
      "name": "python"
    }
  },
  "cells": [
    {
      "cell_type": "code",
      "execution_count": null,
      "metadata": {
        "id": "MomBRnjk7rhJ"
      },
      "outputs": [],
      "source": [
        "\n",
        "import pandas as pd\n",
        "import numpy as np\n",
        "import matplotlib.pyplot as plt\n",
        "import seaborn as sns\n",
        "from sklearn.preprocessing import StandardScaler\n",
        "from sklearn.model_selection import train_test_split, GridSearchCV\n",
        "from sklearn.linear_model import LogisticRegression\n",
        "from sklearn.neighbors import KNeighborsClassifier\n",
        "from sklearn.naive_bayes import GaussianNB\n",
        "from sklearn.ensemble import RandomForestClassifier, AdaBoostClassifier, VotingClassifier\n",
        "from sklearn.metrics import (classification_report, confusion_matrix, accuracy_score,\n",
        "                            precision_score, recall_score, f1_score, roc_auc_score)\n",
        "from sklearn.feature_selection import SelectKBest, f_classif, RFE\n",
        "from sklearn.pipeline import Pipeline\n",
        "import joblib\n",
        "\n",
        "# Set style for plots\n",
        "plt.style.use('ggplot')\n",
        "%matplotlib inline"
      ]
    },
    {
      "cell_type": "code",
      "source": [
        "\n",
        "df = pd.read_excel(\"cardio_train.csv.xlsx\")\n",
        "\n",
        "print(\"=\"*80)\n",
        "print(\"Initial Data Inspection\")\n",
        "print(\"=\"*80)\n",
        "print(f\"Dataset Shape: {df.shape}\")\n",
        "print(\"\\nFirst 5 Rows:\")\n",
        "print(df.head())\n",
        "print(\"\\nDataset Info:\")\n",
        "print(df.info())\n",
        "print(\"\\nDescriptive Statistics:\")\n",
        "print(df.describe())\n",
        "print(\"\\nMissing Values:\")\n",
        "print(df.isnull().sum())\n",
        "print(\"\\nNumber of Duplicates:\", df.duplicated().sum())"
      ],
      "metadata": {
        "id": "YUrML4f57wLM"
      },
      "execution_count": null,
      "outputs": []
    },
    {
      "cell_type": "code",
      "source": [
        "\n",
        "# Convert age from days to years\n",
        "df['age_years'] = df['age'] / 365\n",
        "\n",
        "# Remove outliers from blood pressure\n",
        "df = df[(df['ap_hi'] >= 80) & (df['ap_hi'] <= 200)]\n",
        "df = df[(df['ap_lo'] >= 50) & (df['ap_lo'] <= 120)]\n",
        "\n",
        "print(\"\\nAfter cleaning - Dataset Shape:\", df.shape)"
      ],
      "metadata": {
        "id": "CDzHUEdN7-r5"
      },
      "execution_count": null,
      "outputs": []
    },
    {
      "cell_type": "code",
      "source": [
        "\n",
        "plt.figure(figsize=(18, 12))\n",
        "\n",
        "# Age distribution\n",
        "plt.subplot(2, 3, 1)\n",
        "sns.histplot(df['age_years'], bins=20, kde=True, color='skyblue')\n",
        "plt.title('Age Distribution', fontsize=14)\n",
        "plt.xlabel('Age (years)')\n",
        "\n",
        "# Blood pressure distribution\n",
        "plt.subplot(2, 3, 2)\n",
        "sns.histplot(df['ap_hi'], bins=20, kde=True, color='salmon')\n",
        "plt.title('Systolic BP Distribution', fontsize=14)\n",
        "plt.xlabel('Systolic BP')\n",
        "\n",
        "# Cholesterol distribution\n",
        "plt.subplot(2, 3, 3)\n",
        "df['cholesterol'].value_counts().sort_index().plot(kind='bar', color=['lightblue', 'lightgreen', 'pink'])\n",
        "plt.title('Cholesterol Levels', fontsize=14)\n",
        "plt.xlabel('Cholesterol Level')\n",
        "\n",
        "# Physical activity\n",
        "plt.subplot(2, 3, 4)\n",
        "df['active'].value_counts().sort_index().plot(kind='bar', color=['lightblue', 'lightgreen'])\n",
        "plt.title('Physical Activity', fontsize=14)\n",
        "plt.xlabel('Active (1 = yes, 0 = no)')\n",
        "\n",
        "# Cardio disease distribution\n",
        "plt.subplot(2, 3, 5)\n",
        "df['cardio'].value_counts().sort_index().plot(kind='bar', color=['lightblue', 'lightgreen'])\n",
        "plt.title('Cardiovascular Disease', fontsize=14)\n",
        "plt.xlabel('Cardio (1 = yes, 0 = no)')\n",
        "\n",
        "# BMI calculation and distribution\n",
        "df['bmi'] = df['weight'] / ((df['height']/100) ** 2)\n",
        "plt.subplot(2, 3, 6)\n",
        "sns.histplot(df['bmi'], bins=20, kde=True, color='purple')\n",
        "plt.title('BMI Distribution', fontsize=14)\n",
        "plt.xlabel('BMI')\n",
        "\n",
        "plt.tight_layout()\n",
        "plt.show()"
      ],
      "metadata": {
        "id": "bgZ9MPtv8EEC"
      },
      "execution_count": null,
      "outputs": []
    },
    {
      "cell_type": "code",
      "source": [
        "\n",
        "plt.figure(figsize=(18, 12))\n",
        "\n",
        "# Age vs Cardio\n",
        "plt.subplot(2, 3, 1)\n",
        "sns.boxplot(x='cardio', y='age_years', data=df, palette=['lightblue', 'lightgreen'])\n",
        "plt.title('Age vs Cardiovascular Disease', fontsize=14)\n",
        "plt.xlabel('Cardio (1 = yes, 0 = no)')\n",
        "plt.ylabel('Age (years)')\n",
        "\n",
        "# Blood Pressure vs Cardio\n",
        "plt.subplot(2, 3, 2)\n",
        "sns.boxplot(x='cardio', y='ap_hi', data=df, palette=['lightblue', 'lightgreen'])\n",
        "plt.title('Systolic BP vs Cardiovascular Disease', fontsize=14)\n",
        "plt.xlabel('Cardio (1 = yes, 0 = no)')\n",
        "plt.ylabel('Systolic BP')\n",
        "\n",
        "# Cholesterol vs Cardio\n",
        "plt.subplot(2, 3, 3)\n",
        "sns.countplot(x='cholesterol', hue='cardio', data=df, palette=['lightblue', 'lightgreen'])\n",
        "plt.title('Cholesterol vs Cardiovascular Disease', fontsize=14)\n",
        "plt.xlabel('Cholesterol Level')\n",
        "plt.legend(title='Cardio', labels=['No', 'Yes'])\n",
        "\n",
        "# BMI vs Cardio\n",
        "plt.subplot(2, 3, 4)\n",
        "sns.boxplot(x='cardio', y='bmi', data=df, palette=['lightblue', 'lightgreen'])\n",
        "plt.title('BMI vs Cardiovascular Disease', fontsize=14)\n",
        "plt.xlabel('Cardio (1 = yes, 0 = no)')\n",
        "plt.ylabel('BMI')\n",
        "\n",
        "# Physical Activity vs Cardio\n",
        "plt.subplot(2, 3, 5)\n",
        "sns.countplot(x='active', hue='cardio', data=df, palette=['lightblue', 'lightgreen'])\n",
        "plt.title('Physical Activity vs Cardiovascular Disease', fontsize=14)\n",
        "plt.xlabel('Active (1 = yes, 0 = no)')\n",
        "plt.legend(title='Cardio', labels=['No', 'Yes'])\n",
        "\n",
        "# Gender vs Cardio\n",
        "plt.subplot(2, 3, 6)\n",
        "sns.countplot(x='gender', hue='cardio', data=df, palette=['lightblue', 'lightgreen'])\n",
        "plt.title('Gender vs Cardiovascular Disease', fontsize=14)\n",
        "plt.xlabel('Gender (1 = female, 2 = male)')\n",
        "plt.legend(title='Cardio', labels=['No', 'Yes'])\n",
        "\n",
        "plt.tight_layout()\n",
        "plt.show()"
      ],
      "metadata": {
        "id": "qhjA1i_M8GZ9"
      },
      "execution_count": null,
      "outputs": []
    },
    {
      "cell_type": "code",
      "source": [
        "\n",
        "plt.figure(figsize=(14, 10))\n",
        "corr = df[['age', 'height', 'weight', 'ap_hi', 'ap_lo', 'cholesterol', 'gluc', 'bmi', 'active', 'cardio']].corr()\n",
        "sns.heatmap(corr, annot=True, fmt=\".2f\", cmap='coolwarm', center=0)\n",
        "plt.title('Correlation Matrix', fontsize=16)\n",
        "plt.show()"
      ],
      "metadata": {
        "id": "A7eQ0r9L8MTG"
      },
      "execution_count": null,
      "outputs": []
    },
    {
      "cell_type": "code",
      "source": [
        "\n",
        "# Create new features\n",
        "df['bp_diff'] = df['ap_hi'] - df['ap_lo']\n",
        "df['age_squared'] = df['age'] ** 2\n",
        "df['wh_ratio'] = df['weight'] / df['height']\n",
        "\n",
        "# Feature Selection\n",
        "X = df.drop(['cardio', 'id', 'age_years'], axis=1)\n",
        "y = df['cardio']\n",
        "\n",
        "# Method 1: SelectKBest\n",
        "selector = SelectKBest(score_func=f_classif, k=10)\n",
        "X_new = selector.fit_transform(X, y)\n",
        "selected_features = X.columns[selector.get_support()]\n",
        "print(\"\\nTop 10 features using SelectKBest:\")\n",
        "print(selected_features)\n",
        "\n",
        "# Method 2: RFE with Logistic Regression\n",
        "model = LogisticRegression(max_iter=1000)\n",
        "rfe = RFE(model, n_features_to_select=10)\n",
        "fit = rfe.fit(X, y)\n",
        "selected_features = X.columns[fit.support_]\n",
        "print(\"\\nTop 10 features using RFE:\")\n",
        "print(selected_features)\n",
        "\n",
        "# Final feature selection\n",
        "final_features = ['age', 'gender', 'height', 'weight', 'ap_hi', 'ap_lo',\n",
        "                 'cholesterol', 'gluc', 'bmi', 'active', 'bp_diff']\n",
        "X = df[final_features]\n",
        "\n",
        "# Train-test split\n",
        "X_train, X_test, y_train, y_test = train_test_split(X, y, test_size=0.3, random_state=42)\n",
        "\n",
        "# Standardize features\n",
        "scaler = StandardScaler()\n",
        "X_train_scaled = scaler.fit_transform(X_train)\n",
        "X_test_scaled = scaler.transform(X_test)"
      ],
      "metadata": {
        "id": "PM-4HECG8Ozh"
      },
      "execution_count": null,
      "outputs": []
    },
    {
      "cell_type": "code",
      "source": [
        "\n",
        "print(\"\\nTuning Logistic Regression...\")\n",
        "lr_params = {'C': [0.001, 0.01, 0.1, 1, 10, 100],\n",
        "             'penalty': ['l1', 'l2'],\n",
        "             'solver': ['liblinear']}\n",
        "\n",
        "lr_grid = GridSearchCV(LogisticRegression(max_iter=1000), lr_params, cv=5, scoring='accuracy', n_jobs=-1)\n",
        "lr_grid.fit(X_train_scaled, y_train)\n",
        "best_lr = lr_grid.best_estimator_\n",
        "print(\"Best Logistic Regression Parameters:\", lr_grid.best_params_)"
      ],
      "metadata": {
        "id": "20PxFBOW8SWk"
      },
      "execution_count": null,
      "outputs": []
    },
    {
      "cell_type": "code",
      "source": [
        "\n",
        "print(\"\\nTuning Random Forest...\")\n",
        "rf_params = {'n_estimators': [50, 100, 200],\n",
        "             'max_depth': [None, 10, 20, 30],\n",
        "             'min_samples_split': [2, 5, 10]}\n",
        "\n",
        "rf_grid = GridSearchCV(RandomForestClassifier(random_state=42), rf_params, cv=5, scoring='accuracy', n_jobs=-1)\n",
        "rf_grid.fit(X_train, y_train)\n",
        "best_rf = rf_grid.best_estimator_\n",
        "print(\"Best Random Forest Parameters:\", rf_grid.best_params_)"
      ],
      "metadata": {
        "id": "o2xEq42t8UfV"
      },
      "execution_count": null,
      "outputs": []
    },
    {
      "cell_type": "code",
      "source": [
        "\n",
        "print(\"\\nTuning KNN...\")\n",
        "knn_params = {'n_neighbors': [3, 5, 7, 9, 11],\n",
        "              'weights': ['uniform', 'distance']}\n",
        "\n",
        "knn_grid = GridSearchCV(KNeighborsClassifier(), knn_params, cv=5, scoring='accuracy', n_jobs=-1)\n",
        "knn_grid.fit(X_train_scaled, y_train)\n",
        "best_knn = knn_grid.best_estimator_\n",
        "print(\"Best KNN Parameters:\", knn_grid.best_params_)"
      ],
      "metadata": {
        "id": "tnKEh9rh8Wx8"
      },
      "execution_count": null,
      "outputs": []
    },
    {
      "cell_type": "code",
      "source": [
        "\n",
        "models = {\n",
        "    'Logistic Regression': best_lr,\n",
        "    'Random Forest': best_rf,\n",
        "    'K-Nearest Neighbors': best_knn\n",
        "}\n",
        "\n",
        "results = {}\n",
        "for name, model in models.items():\n",
        "    if name == 'Random Forest':\n",
        "        # RF doesn't need scaling\n",
        "        y_pred = model.predict(X_test)\n",
        "        y_proba = model.predict_proba(X_test)[:, 1]\n",
        "    else:\n",
        "        y_pred = model.predict(X_test_scaled)\n",
        "        y_proba = model.predict_proba(X_test_scaled)[:, 1]\n",
        "\n",
        "    results[name] = {\n",
        "        'accuracy': accuracy_score(y_test, y_pred),\n",
        "        'precision': precision_score(y_test, y_pred),\n",
        "        'recall': recall_score(y_test, y_pred),\n",
        "        'f1': f1_score(y_test, y_pred),\n",
        "        'roc_auc': roc_auc_score(y_test, y_proba)\n",
        "    }\n",
        "\n",
        "# Convert results to DataFrame\n",
        "results_df = pd.DataFrame(results).T\n",
        "print(\"\\nModel Performance Comparison:\")\n",
        "print(results_df)\n",
        "\n",
        "# Plot model comparison\n",
        "plt.figure(figsize=(12, 6))\n",
        "results_df.plot(kind='bar', colormap='viridis')\n",
        "plt.title('Model Performance Comparison', fontsize=16)\n",
        "plt.ylabel('Score')\n",
        "plt.xticks(rotation=45, ha='right')\n",
        "plt.legend(loc='lower right')\n",
        "plt.tight_layout()\n",
        "plt.show()"
      ],
      "metadata": {
        "id": "VjnrGg8C8b0p"
      },
      "execution_count": null,
      "outputs": []
    },
    {
      "cell_type": "code",
      "source": [
        "\n",
        "best_model = best_rf  # based on results\n",
        "y_pred = best_model.predict(X_test)\n",
        "cm = confusion_matrix(y_test, y_pred)\n",
        "\n",
        "plt.figure(figsize=(6, 6))\n",
        "sns.heatmap(cm, annot=True, fmt='d', cmap='Blues',\n",
        "            xticklabels=['No Disease', 'Disease'],\n",
        "            yticklabels=['No Disease', 'Disease'])\n",
        "plt.title('Confusion Matrix - Random Forest', fontsize=14)\n",
        "plt.xlabel('Predicted')\n",
        "plt.ylabel('Actual')\n",
        "plt.show()\n",
        "\n",
        "print(\"\\nBest Model Classification Report:\")\n",
        "print(classification_report(y_test, y_pred))"
      ],
      "metadata": {
        "id": "aqNqMP4U8eLs"
      },
      "execution_count": null,
      "outputs": []
    },
    {
      "cell_type": "code",
      "source": [
        "\n",
        "# Create pipeline with preprocessing and best model\n",
        "pipeline = Pipeline([\n",
        "    ('scaler', StandardScaler()),\n",
        "    ('classifier', best_rf)\n",
        "])\n",
        "\n",
        "# Train on full dataset\n",
        "X_scaled = scaler.fit_transform(X)\n",
        "pipeline.fit(X_scaled, y)\n",
        "\n",
        "# Save the model and pipeline\n",
        "joblib.dump(pipeline, 'cardio_model.pkl')\n",
        "print(\"\\nModel saved as 'cardio_model.pkl'\")"
      ],
      "metadata": {
        "id": "QLnUzV3K8gqQ"
      },
      "execution_count": null,
      "outputs": []
    },
    {
      "cell_type": "code",
      "source": [
        "\n",
        "feature_importance = pd.DataFrame({\n",
        "    'Feature': final_features,\n",
        "    'Importance': best_rf.feature_importances_\n",
        "}).sort_values('Importance', ascending=False)\n",
        "\n",
        "plt.figure(figsize=(10, 6))\n",
        "sns.barplot(x='Importance', y='Feature', data=feature_importance, palette='viridis')\n",
        "plt.title('Feature Importance - Random Forest', fontsize=14)\n",
        "plt.xlabel('Importance')\n",
        "plt.ylabel('Feature')\n",
        "plt.show()\n",
        "\n",
        "print(\"\\nFeature Importance Table:\")\n",
        "print(feature_importance)"
      ],
      "metadata": {
        "id": "LIYhAndZ8jFx"
      },
      "execution_count": null,
      "outputs": []
    },
    {
      "cell_type": "code",
      "source": [],
      "metadata": {
        "id": "54dRsgdK8lHd"
      },
      "execution_count": null,
      "outputs": []
    }
  ]
}